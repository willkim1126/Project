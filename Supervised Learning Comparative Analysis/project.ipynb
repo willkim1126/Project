{
 "cells": [
  {
   "cell_type": "markdown",
   "metadata": {},
   "source": [
    "# Battle of Classifiers: Comparative Study of Different Classifier Models"
   ]
  },
  {
   "cell_type": "markdown",
   "metadata": {},
   "source": [
    "<p style=\"text-align:center;\">Junghwan Kim</p>\n",
    "<p style=\"text-align:center;\">12/21/2024</p>\n",
    "<p style=\"text-align:center;\">junghwk11@gmail.com</p>\n"
   ]
  },
  {
   "cell_type": "markdown",
   "metadata": {},
   "source": [
    "## Library Imports"
   ]
  },
  {
   "cell_type": "code",
   "execution_count": 1,
   "metadata": {},
   "outputs": [],
   "source": [
    "import pandas as pd\n",
    "from sklearn.model_selection import train_test_split, KFold, GridSearchCV\n",
    "from sklearn.preprocessing import OneHotEncoder, LabelEncoder, StandardScaler\n",
    "from sklearn.svm import SVC\n",
    "from sklearn.metrics import accuracy_score, confusion_matrix\n",
    "from xgboost import XGBClassifier\n",
    "import matplotlib.pyplot as plt\n",
    "from tensorflow.keras.models import Sequential\n",
    "from tensorflow.keras.layers import Dense, Input\n",
    "from tensorflow.keras.utils import to_categorical\n",
    "from sklearn.decomposition import PCA\n",
    "import os\n",
    "import numpy as np\n",
    "import kagglehub"
   ]
  },
  {
   "cell_type": "markdown",
   "metadata": {},
   "source": [
    "## Data Imports"
   ]
  },
  {
   "cell_type": "code",
   "execution_count": 2,
   "metadata": {},
   "outputs": [
    {
     "name": "stdout",
     "output_type": "stream",
     "text": [
      "Warning: Looks like you're using an outdated `kagglehub` version (installed: 0.3.5), please consider upgrading to the latest version (0.3.6).\n",
      "Warning: Looks like you're using an outdated `kagglehub` version (installed: 0.3.5), please consider upgrading to the latest version (0.3.6).\n",
      "Warning: Looks like you're using an outdated `kagglehub` version (installed: 0.3.5), please consider upgrading to the latest version (0.3.6).\n"
     ]
    }
   ],
   "source": [
    "mushroom = kagglehub.dataset_download(\"uciml/mushroom-classification\")\n",
    "wine_quality = kagglehub.dataset_download(\"uciml/red-wine-quality-cortez-et-al-2009\")\n",
    "income = kagglehub.dataset_download(\"uciml/adult-census-income\")\n"
   ]
  },
  {
   "cell_type": "markdown",
   "metadata": {},
   "source": [
    "## SVM Evaluation/Cross Validation Functions"
   ]
  },
  {
   "cell_type": "code",
   "execution_count": 17,
   "metadata": {},
   "outputs": [],
   "source": [
    "def SVM_evaluate_with_train_test_split(X, y, test_size):\n",
    "    X_train, X_test, y_train, y_test = train_test_split(X, y, test_size=test_size, random_state=42)\n",
    "\n",
    "    model = SVC(kernel='linear', C=1.0)\n",
    "    model.fit(X_train, y_train)\n",
    "    y_pred = model.predict(X_test)\n",
    "    test_accuracy = accuracy_score(y_test, y_pred)\n",
    "\n",
    "    print(f\"Train-Test Split: {1 - test_size:.0%}/{test_size:.0%}\")\n",
    "    print(f\"Testing Accuracy: {test_accuracy * 100:.2f}%\")\n",
    "\n",
    "def SVM_evaluate_with_kfold(X_train, y_train, n_splits=5):\n",
    "    kf = KFold(n_splits=n_splits, shuffle=True, random_state=42)\n",
    "    train_accuracies = []\n",
    "    val_accuracies = []\n",
    "    if not isinstance(y_train, np.ndarray):\n",
    "        y_train = np.array(y_train)\n",
    "\n",
    "    for train_index, val_index in kf.split(X_train):\n",
    "        X_train_fold, X_val_fold = X_train[train_index], X_train[val_index]\n",
    "        y_train_fold, y_val_fold = y_train[train_index], y_train[val_index]\n",
    "\n",
    "        model = SVC(kernel='linear', C=1.0)\n",
    "        model.fit(X_train_fold, y_train_fold)\n",
    "\n",
    "        train_accuracy = model.score(X_train_fold, y_train_fold)\n",
    "        val_accuracy = model.score(X_val_fold, y_val_fold)\n",
    "\n",
    "        train_accuracies.append(train_accuracy)\n",
    "        val_accuracies.append(val_accuracy)\n",
    "\n",
    "    mean_train_accuracy = sum(train_accuracies) / len(train_accuracies)\n",
    "    mean_val_accuracy = sum(val_accuracies) / len(val_accuracies)\n",
    "\n",
    "    print(f\"K-Fold Cross-Validation Training Accuracy: {mean_train_accuracy * 100:.2f}%\")\n",
    "    print(f\"K-Fold Cross-Validation Validation Accuracy: {mean_val_accuracy * 100:.2f}%\")"
   ]
  },
  {
   "cell_type": "markdown",
   "metadata": {},
   "source": [
    "## Boosted Trees Evaluation/Cross Validation Functions"
   ]
  },
  {
   "cell_type": "code",
   "execution_count": 4,
   "metadata": {},
   "outputs": [],
   "source": [
    "def BT_evaluate_with_train_test_split(X, y, test_size):\n",
    "    X_train, X_test, y_train, y_test = train_test_split(X, y, test_size=test_size, random_state=42)\n",
    "    model = XGBClassifier(eval_metric='logloss')\n",
    "    model.fit(X_train, y_train)\n",
    "    y_pred = model.predict(X_test)\n",
    "    test_accuracy = accuracy_score(y_test, y_pred)\n",
    "\n",
    "    print(f\"Train-Test Split: {1 - test_size:.0%}/{test_size:.0%}\")\n",
    "    print(f\"Testing Accuracy: {test_accuracy * 100:.2f}%\")\n",
    "\n",
    "def BT_evaluate_with_kfold(X_train, y_train, n_splits=5):\n",
    "    if isinstance(y_train, pd.Series):\n",
    "        y_train = y_train.to_numpy()\n",
    "    \n",
    "    kf = KFold(n_splits=n_splits, shuffle=True, random_state=42)\n",
    "    train_accuracies = []\n",
    "    val_accuracies = []\n",
    "\n",
    "    for train_index, val_index in kf.split(X_train):\n",
    "        X_train_fold, X_val_fold = X_train[train_index], X_train[val_index]\n",
    "        y_train_fold, y_val_fold = y_train[train_index], y_train[val_index]\n",
    "        model = XGBClassifier(eval_metric='logloss')\n",
    "        model.fit(X_train_fold, y_train_fold)\n",
    "        train_accuracy = model.score(X_train_fold, y_train_fold)\n",
    "        val_accuracy = model.score(X_val_fold, y_val_fold)\n",
    "\n",
    "        train_accuracies.append(train_accuracy)\n",
    "        val_accuracies.append(val_accuracy)\n",
    "    mean_train_accuracy = np.mean(train_accuracies)\n",
    "    mean_val_accuracy = np.mean(val_accuracies)\n",
    "\n",
    "    print(f\"K-Fold Cross-Validation Training Accuracy: {mean_train_accuracy * 100:.2f}%\")\n",
    "    print(f\"K-Fold Cross-Validation Validation Accuracy: {mean_val_accuracy * 100:.2f}%\")"
   ]
  },
  {
   "cell_type": "markdown",
   "metadata": {},
   "source": [
    "## Neural Nets Evaluation/Cross Validation Functions"
   ]
  },
  {
   "cell_type": "code",
   "execution_count": 5,
   "metadata": {},
   "outputs": [],
   "source": [
    "def build_neural_network(input_dim, output_dim):\n",
    "    model = Sequential([\n",
    "        Input(shape=(input_dim,)),\n",
    "        Dense(64, activation='relu'),\n",
    "        Dense(32, activation='relu'),\n",
    "        Dense(output_dim, activation='softmax')\n",
    "    ])\n",
    "    model.compile(optimizer='adam', loss='categorical_crossentropy', metrics=['accuracy'])\n",
    "    \n",
    "    return model\n",
    "def NN_evaluate_with_train_test_split(X, y, test_size):\n",
    "    X_train, X_test, y_train, y_test = train_test_split(X, y, test_size=test_size, random_state=42)\n",
    "\n",
    "    scaler = StandardScaler()\n",
    "    X_train_scaled = scaler.fit_transform(X_train)\n",
    "    X_test_scaled = scaler.transform(X_test)\n",
    "    model = build_neural_network(input_dim=X_train_scaled.shape[1], output_dim=y.shape[1])\n",
    "    model.fit(X_train_scaled, y_train, epochs=10, batch_size=32, verbose=0)\n",
    "    _, test_accuracy = model.evaluate(X_test_scaled, y_test, verbose=0)\n",
    "\n",
    "    print(f\"Train-Test Split: {1 - test_size:.0%}/{test_size:.0%}\")\n",
    "    print(f\"Testing Accuracy: {test_accuracy * 100:.2f}%\")\n",
    "\n",
    "def NN_evaluate_with_kfold(X_train, y_train, n_splits=5):\n",
    "    kf = KFold(n_splits=n_splits, shuffle=True, random_state=42)\n",
    "    \n",
    "    train_accuracies = []\n",
    "    val_accuracies = []\n",
    "\n",
    "    for train_index, val_index in kf.split(X_train):\n",
    "        X_train_fold, X_val_fold = X_train[train_index], X_train[val_index]\n",
    "        y_train_fold, y_val_fold = y_train[train_index], y_train[val_index]\n",
    "\n",
    "        scaler = StandardScaler()\n",
    "        X_train_fold_scaled = scaler.fit_transform(X_train_fold)\n",
    "        X_val_fold_scaled = scaler.transform(X_val_fold)\n",
    "\n",
    "        model = build_neural_network(input_dim=X_train_fold_scaled.shape[1], output_dim=y_train.shape[1])\n",
    "        model.fit(X_train_fold_scaled, y_train_fold, epochs=10, batch_size=32, verbose=0)\n",
    "\n",
    "        train_accuracy = model.evaluate(X_train_fold_scaled, y_train_fold, verbose=0)[1]\n",
    "        val_accuracy = model.evaluate(X_val_fold_scaled, y_val_fold, verbose=0)[1]\n",
    "\n",
    "        train_accuracies.append(train_accuracy)\n",
    "        val_accuracies.append(val_accuracy)\n",
    "\n",
    "    mean_train_accuracy = np.mean(train_accuracies)\n",
    "    mean_val_accuracy = np.mean(val_accuracies)\n",
    "\n",
    "    print(f\"K-Fold Cross-Validation Mean Training Accuracy: {mean_train_accuracy * 100:.2f}%\")\n",
    "    print(f\"K-Fold Cross-Validation Mean Validation Accuracy: {mean_val_accuracy * 100:.2f}%\")"
   ]
  },
  {
   "cell_type": "markdown",
   "metadata": {},
   "source": [
    "## Data #1: Mushroom Dataset"
   ]
  },
  {
   "cell_type": "markdown",
   "metadata": {},
   "source": [
    "### Data Loading and Preprocessing for SVM and Boosted Trees"
   ]
  },
  {
   "cell_type": "code",
   "execution_count": 21,
   "metadata": {},
   "outputs": [],
   "source": [
    "def mushroom_load_and_preprocess_data(directory_path):\n",
    "    files = os.listdir(directory_path)\n",
    "    print(\"Files in directory:\", files)\n",
    "    csv_file = [f for f in files if f.endswith('.csv')][0]\n",
    "    file_path = os.path.join(directory_path, csv_file)\n",
    "    data = pd.read_csv(file_path)\n",
    "    if 'stalk-root' in data.columns:\n",
    "        data['stalk-root'] = data['stalk-root'].replace('?', 'u')\n",
    "    if 'veil-type' in data.columns:\n",
    "        data = data.drop('veil-type', axis=1)\n",
    "    X = data.drop('class', axis=1)\n",
    "    y = data['class']\n",
    "    encoder = OneHotEncoder()\n",
    "    X_encoded = encoder.fit_transform(X).toarray()\n",
    "    label_encoder = LabelEncoder()\n",
    "    y_encoded = label_encoder.fit_transform(y)\n",
    "\n",
    "    return X_encoded, y_encoded"
   ]
  },
  {
   "cell_type": "markdown",
   "metadata": {
    "vscode": {
     "languageId": "plaintext"
    }
   },
   "source": [
    "### SVM Execution"
   ]
  },
  {
   "cell_type": "code",
   "execution_count": 22,
   "metadata": {},
   "outputs": [
    {
     "name": "stdout",
     "output_type": "stream",
     "text": [
      "Files in directory: ['mushrooms.csv']\n",
      "Train-Test Split: 80%/20%\n",
      "Testing Accuracy: 100.00%\n",
      "Train-Test Split: 50%/50%\n",
      "Testing Accuracy: 100.00%\n",
      "Train-Test Split: 20%/80%\n",
      "Testing Accuracy: 99.88%\n",
      "K-Fold Cross-Validation Training Accuracy: 100.00%\n",
      "K-Fold Cross-Validation Validation Accuracy: 100.00%\n",
      "K-Fold Cross-Validation Training Accuracy: 100.00%\n",
      "K-Fold Cross-Validation Validation Accuracy: 100.00%\n",
      "K-Fold Cross-Validation Training Accuracy: 100.00%\n",
      "K-Fold Cross-Validation Validation Accuracy: 99.94%\n"
     ]
    }
   ],
   "source": [
    "X_encoded, y_encoded = mushroom_load_and_preprocess_data(mushroom)\n",
    "SVM_evaluate_with_train_test_split(X_encoded, y_encoded, test_size=0.2)\n",
    "SVM_evaluate_with_train_test_split(X_encoded, y_encoded, test_size=0.5)\n",
    "SVM_evaluate_with_train_test_split(X_encoded, y_encoded, test_size=0.8)\n",
    "X_train_80_20, _, y_train_80_20, _ = train_test_split(X_encoded, y_encoded, test_size=0.2, random_state=24)\n",
    "SVM_evaluate_with_kfold(X_train_80_20, y_train_80_20)\n",
    "X_train_50_50, _, y_train_50_50, _ = train_test_split(X_encoded, y_encoded, test_size=0.5, random_state=64)\n",
    "SVM_evaluate_with_kfold(X_train_50_50, y_train_50_50)\n",
    "X_train_20_80, _, y_train_20_80, _ = train_test_split(X_encoded, y_encoded, test_size=0.8, random_state=4)\n",
    "SVM_evaluate_with_kfold(X_train_20_80, y_train_20_80)\n"
   ]
  },
  {
   "cell_type": "markdown",
   "metadata": {},
   "source": [
    "### Boosted Trees Execution"
   ]
  },
  {
   "cell_type": "code",
   "execution_count": 50,
   "metadata": {},
   "outputs": [
    {
     "name": "stdout",
     "output_type": "stream",
     "text": [
      "Files in directory: ['mushrooms.csv']\n",
      "Train-Test Split: 80%/20%\n",
      "Testing Accuracy: 100.00%\n",
      "Train-Test Split: 50%/50%\n",
      "Testing Accuracy: 100.00%\n",
      "Train-Test Split: 20%/80%\n",
      "Testing Accuracy: 100.00%\n",
      "K-Fold Cross-Validation Training Accuracy: 100.00%\n",
      "K-Fold Cross-Validation Validation Accuracy: 100.00%\n",
      "K-Fold Cross-Validation Training Accuracy: 100.00%\n",
      "K-Fold Cross-Validation Validation Accuracy: 100.00%\n",
      "K-Fold Cross-Validation Training Accuracy: 100.00%\n",
      "K-Fold Cross-Validation Validation Accuracy: 99.94%\n"
     ]
    }
   ],
   "source": [
    "X_encoded, y_encoded = mushroom_load_and_preprocess_data(mushroom)\n",
    "BT_evaluate_with_train_test_split(X_encoded, y_encoded, test_size=0.2)\n",
    "BT_evaluate_with_train_test_split(X_encoded, y_encoded, test_size=0.5)\n",
    "BT_evaluate_with_train_test_split(X_encoded, y_encoded, test_size=0.8)\n",
    "X_train_80_20, _, y_train_80_20, _ = train_test_split(X_encoded, y_encoded, test_size=0.2, random_state=1)\n",
    "BT_evaluate_with_kfold(X_train_80_20, y_train_80_20)\n",
    "X_train_50_50, _, y_train_50_50, _ = train_test_split(X_encoded, y_encoded, test_size=0.5, random_state=2)\n",
    "BT_evaluate_with_kfold(X_train_50_50, y_train_50_50)\n",
    "X_train_20_80, _, y_train_20_80, _ = train_test_split(X_encoded, y_encoded, test_size=0.8, random_state=4)\n",
    "BT_evaluate_with_kfold(X_train_20_80, y_train_20_80)\n"
   ]
  },
  {
   "cell_type": "markdown",
   "metadata": {},
   "source": [
    "### Neural Nets Excecution"
   ]
  },
  {
   "cell_type": "code",
   "execution_count": 51,
   "metadata": {},
   "outputs": [
    {
     "name": "stdout",
     "output_type": "stream",
     "text": [
      "Files in directory: ['mushrooms.csv']\n",
      "Train-Test Split: 80%/20%\n",
      "Testing Accuracy: 100.00%\n",
      "Train-Test Split: 50%/50%\n",
      "Testing Accuracy: 100.00%\n",
      "Train-Test Split: 20%/80%\n",
      "Testing Accuracy: 99.86%\n",
      "K-Fold Cross-Validation Mean Training Accuracy: 100.00%\n",
      "K-Fold Cross-Validation Mean Validation Accuracy: 100.00%\n",
      "K-Fold Cross-Validation Mean Training Accuracy: 100.00%\n",
      "K-Fold Cross-Validation Mean Validation Accuracy: 100.00%\n",
      "K-Fold Cross-Validation Mean Training Accuracy: 100.00%\n",
      "K-Fold Cross-Validation Mean Validation Accuracy: 99.94%\n"
     ]
    }
   ],
   "source": [
    "def mushroom_nn_load_and_preprocess_data(directory_path):\n",
    "    files = os.listdir(directory_path)\n",
    "    print(\"Files in directory:\", files)\n",
    "    csv_file = [f for f in files if f.endswith('.csv')][0]\n",
    "    file_path = os.path.join(directory_path, csv_file)\n",
    "    data = pd.read_csv(file_path)\n",
    "    if 'stalk-root' in data.columns:\n",
    "        data['stalk-root'] = data['stalk-root'].replace('?', 'u')\n",
    "    if 'veil-type' in data.columns:\n",
    "        data = data.drop('veil-type', axis=1)\n",
    "    X = data.drop('class', axis=1)\n",
    "    y = data['class']\n",
    "    encoder = OneHotEncoder()\n",
    "    X_encoded = encoder.fit_transform(X).toarray()\n",
    "    label_encoder = LabelEncoder()\n",
    "    y_encoded = label_encoder.fit_transform(y)\n",
    "    y_one_hot = to_categorical(y_encoded)\n",
    "    return X_encoded, y_one_hot\n",
    "\n",
    "X_final, y_one_hot = mushroom_nn_load_and_preprocess_data(mushroom)\n",
    "NN_evaluate_with_train_test_split(X_encoded, y_one_hot, test_size=0.2)\n",
    "NN_evaluate_with_train_test_split(X_encoded, y_one_hot, test_size=0.5)\n",
    "NN_evaluate_with_train_test_split(X_encoded, y_one_hot, test_size=0.8)\n",
    "\n",
    "X_train_80_20, _, y_train_80_20, _ = train_test_split(X_encoded, y_one_hot, test_size=0.2, random_state=43)\n",
    "NN_evaluate_with_kfold(X_train_80_20, y_train_80_20)\n",
    "X_train_50_50, _, y_train_50_50, _ = train_test_split(X_encoded, y_one_hot, test_size=0.5, random_state=756)\n",
    "NN_evaluate_with_kfold(X_train_50_50, y_train_50_50)\n",
    "X_train_20_80, _, y_train_20_80, _ = train_test_split(X_encoded, y_one_hot, test_size=0.8, random_state=543)\n",
    "NN_evaluate_with_kfold(X_train_20_80, y_train_20_80)"
   ]
  },
  {
   "cell_type": "markdown",
   "metadata": {},
   "source": [
    "For Mushroom sata, the result corresponds with the baseline model performance given by the UCI Machine Learning Repository. Though it might seem concerning to have near 100% accuracy, baseline model performance shows that it is the nature of the data rather than overfitting in the model. "
   ]
  },
  {
   "cell_type": "markdown",
   "metadata": {},
   "source": []
  },
  {
   "cell_type": "markdown",
   "metadata": {},
   "source": [
    "## Data #2: Wine Dataset"
   ]
  },
  {
   "cell_type": "markdown",
   "metadata": {},
   "source": [
    "### Data Loading and Preprocessing for SVM and Boosted Trees"
   ]
  },
  {
   "cell_type": "code",
   "execution_count": 52,
   "metadata": {},
   "outputs": [],
   "source": [
    "def wine_load_and_preprocess_data(directory_path, target_column='quality', relabel_target=True, scale_features=True):\n",
    "    files = os.listdir(directory_path)\n",
    "    print(\"Files in directory:\", files)\n",
    "    csv_file = [f for f in files if f.endswith('.csv')][0]\n",
    "    file_path = os.path.join(directory_path, csv_file)\n",
    "    data = pd.read_csv(file_path)\n",
    "    X = data.drop(target_column, axis=1)\n",
    "    y = data[target_column]\n",
    "    if relabel_target:\n",
    "        y = y - y.min()\n",
    "    if scale_features:\n",
    "        scaler = StandardScaler()\n",
    "        X_processed = scaler.fit_transform(X)\n",
    "    else:\n",
    "        X_processed = X.values\n",
    "\n",
    "    return X_processed, y"
   ]
  },
  {
   "cell_type": "markdown",
   "metadata": {},
   "source": [
    " ### SVM Execution"
   ]
  },
  {
   "cell_type": "code",
   "execution_count": 53,
   "metadata": {},
   "outputs": [
    {
     "name": "stdout",
     "output_type": "stream",
     "text": [
      "Files in directory: ['winequality-red.csv']\n",
      "Train-Test Split: 80%/20%\n",
      "Testing Accuracy: 55.94%\n",
      "Train-Test Split: 50%/50%\n",
      "Testing Accuracy: 56.12%\n",
      "Train-Test Split: 20%/80%\n",
      "Testing Accuracy: 55.16%\n",
      "K-Fold Cross-Validation Training Accuracy: 59.89%\n",
      "K-Fold Cross-Validation Validation Accuracy: 58.48%\n",
      "K-Fold Cross-Validation Training Accuracy: 60.73%\n",
      "K-Fold Cross-Validation Validation Accuracy: 58.70%\n",
      "K-Fold Cross-Validation Training Accuracy: 62.14%\n",
      "K-Fold Cross-Validation Validation Accuracy: 51.71%\n"
     ]
    }
   ],
   "source": [
    "X_scaled, y = wine_load_and_preprocess_data(wine_quality)\n",
    "SVM_evaluate_with_train_test_split(X_scaled, y, test_size=0.2)\n",
    "SVM_evaluate_with_train_test_split(X_scaled, y, test_size=0.5)\n",
    "SVM_evaluate_with_train_test_split(X_scaled, y, test_size=0.8)\n",
    "X_train_80_20, _, y_train_80_20, _ = train_test_split(X_scaled, y, test_size=0.2, random_state=1)\n",
    "SVM_evaluate_with_kfold(X_train_80_20, y_train_80_20)\n",
    "\n",
    "X_train_50_50, _, y_train_50_50, _ = train_test_split(X_scaled, y, test_size=0.5, random_state=89)\n",
    "SVM_evaluate_with_kfold(X_train_50_50, y_train_50_50)\n",
    "\n",
    "X_train_20_80, _, y_train_20_80, _ = train_test_split(X_scaled, y, test_size=0.8, random_state=58)\n",
    "SVM_evaluate_with_kfold(X_train_20_80, y_train_20_80)\n"
   ]
  },
  {
   "cell_type": "markdown",
   "metadata": {},
   "source": [
    "### Boosted Trees Execution"
   ]
  },
  {
   "cell_type": "code",
   "execution_count": 54,
   "metadata": {},
   "outputs": [
    {
     "name": "stdout",
     "output_type": "stream",
     "text": [
      "Files in directory: ['winequality-red.csv']\n",
      "Train-Test Split: 80%/20%\n",
      "Testing Accuracy: 69.69%\n",
      "Train-Test Split: 50%/50%\n",
      "Testing Accuracy: 62.88%\n",
      "Train-Test Split: 20%/80%\n",
      "Testing Accuracy: 57.11%\n",
      "K-Fold Cross-Validation Training Accuracy: 100.00%\n",
      "K-Fold Cross-Validation Validation Accuracy: 64.35%\n",
      "K-Fold Cross-Validation Training Accuracy: 100.00%\n",
      "K-Fold Cross-Validation Validation Accuracy: 61.46%\n",
      "K-Fold Cross-Validation Training Accuracy: 100.00%\n",
      "K-Fold Cross-Validation Validation Accuracy: 58.29%\n"
     ]
    }
   ],
   "source": [
    "X_scaled, y = wine_load_and_preprocess_data(wine_quality)\n",
    "BT_evaluate_with_train_test_split(X_scaled, y, test_size=0.2)\n",
    "BT_evaluate_with_train_test_split(X_scaled, y, test_size=0.5)\n",
    "BT_evaluate_with_train_test_split(X_scaled, y, test_size=0.8)\n",
    "\n",
    "X_train_80_20, _, y_train_80_20, _ = train_test_split(X_scaled, y, test_size=0.2, random_state=54)\n",
    "BT_evaluate_with_kfold(X_train_80_20, y_train_80_20)\n",
    "X_train_50_50, _, y_train_50_50, _ = train_test_split(X_scaled, y, test_size=0.5, random_state=55)\n",
    "BT_evaluate_with_kfold(X_train_50_50, y_train_50_50)\n",
    "X_train_20_80, _, y_train_20_80, _ = train_test_split(X_scaled, y, test_size=0.8, random_state=56)\n",
    "BT_evaluate_with_kfold(X_train_20_80, y_train_20_80)\n"
   ]
  },
  {
   "cell_type": "markdown",
   "metadata": {},
   "source": [
    "### Neural Nets Execution"
   ]
  },
  {
   "cell_type": "code",
   "execution_count": 55,
   "metadata": {},
   "outputs": [
    {
     "name": "stdout",
     "output_type": "stream",
     "text": [
      "Files in directory: ['winequality-red.csv']\n",
      "Train-Test Split: 80%/20%\n",
      "Testing Accuracy: 58.13%\n",
      "Train-Test Split: 50%/50%\n",
      "Testing Accuracy: 56.75%\n",
      "Train-Test Split: 20%/80%\n",
      "Testing Accuracy: 55.94%\n",
      "K-Fold Cross-Validation Mean Training Accuracy: 62.61%\n",
      "K-Fold Cross-Validation Mean Validation Accuracy: 58.09%\n",
      "K-Fold Cross-Validation Mean Training Accuracy: 64.52%\n",
      "K-Fold Cross-Validation Mean Validation Accuracy: 60.70%\n",
      "K-Fold Cross-Validation Mean Training Accuracy: 64.03%\n",
      "K-Fold Cross-Validation Mean Validation Accuracy: 57.36%\n"
     ]
    }
   ],
   "source": [
    "def wine_nn_load_and_preprocess_data(directory_path):\n",
    "    files = os.listdir(directory_path)\n",
    "    print(\"Files in directory:\", files)\n",
    "    csv_file = [f for f in files if f.endswith('.csv')][0]\n",
    "    file_path = os.path.join(directory_path, csv_file)\n",
    "    data = pd.read_csv(file_path)\n",
    "    X = data.drop('quality', axis=1)\n",
    "    y = data['quality']\n",
    "    y = y - y.min()\n",
    "    y_one_hot = to_categorical(y)\n",
    "    scaler = StandardScaler()\n",
    "    X_scaled = scaler.fit_transform(X)\n",
    "\n",
    "    return X_scaled, y_one_hot\n",
    "\n",
    "X_final_wine_quality, y_one_hot_wine_quality = wine_nn_load_and_preprocess_data(wine_quality)\n",
    "\n",
    "NN_evaluate_with_train_test_split(X_final_wine_quality, y_one_hot_wine_quality, test_size=0.2)\n",
    "NN_evaluate_with_train_test_split(X_final_wine_quality, y_one_hot_wine_quality, test_size=0.5)\n",
    "NN_evaluate_with_train_test_split(X_final_wine_quality, y_one_hot_wine_quality, test_size=0.8)\n",
    "\n",
    "X_train_80_20, _, y_train_80_20, _ = train_test_split(X_final_wine_quality, y_one_hot_wine_quality,test_size=0.2, random_state=43)\n",
    "NN_evaluate_with_kfold(X_train_80_20, y_train_80_20)\n",
    "X_train_50_50, _, y_train_50_50, _ = train_test_split(X_final_wine_quality, y_one_hot_wine_quality,test_size=0.5, random_state=1)\n",
    "NN_evaluate_with_kfold(X_train_50_50, y_train_50_50)\n",
    "X_train_20_80, _, y_train_20_80, _ = train_test_split(X_final_wine_quality,y_one_hot_wine_quality,test_size=0.8 , random_state=4)\n",
    "NN_evaluate_with_kfold(X_train_20_80,y_train_20_80)\n"
   ]
  },
  {
   "cell_type": "markdown",
   "metadata": {},
   "source": [
    "## Data #3: Adult Census Income Dataset"
   ]
  },
  {
   "cell_type": "markdown",
   "metadata": {},
   "source": [
    "### Data Loading and Preprocessing for SVM and Boosted Trees"
   ]
  },
  {
   "cell_type": "code",
   "execution_count": 56,
   "metadata": {},
   "outputs": [],
   "source": [
    "def ACI_load_and_preprocess_data(directory_path, n_components=None):\n",
    "    files = os.listdir(directory_path)\n",
    "    print(\"Files in directory:\", files)\n",
    "    csv_file = [f for f in files if f.endswith('.csv')][0]\n",
    "    file_path = os.path.join(directory_path, csv_file)\n",
    "    data = pd.read_csv(file_path)\n",
    "    data.replace(' ?', pd.NA, inplace=True)\n",
    "    data.dropna(inplace=True)\n",
    "    X = data.drop('income', axis=1)\n",
    "    y = data['income']\n",
    "    X_encoded = pd.get_dummies(X, drop_first=True)\n",
    "\n",
    "    scaler = StandardScaler()\n",
    "    X_scaled = scaler.fit_transform(X_encoded)\n",
    "\n",
    "    if n_components is not None:\n",
    "        pca = PCA(n_components=n_components)\n",
    "        X_reduced = pca.fit_transform(X_scaled)\n",
    "    else:\n",
    "        X_reduced = X_scaled\n",
    "\n",
    "    label_encoder = LabelEncoder()\n",
    "    y_encoded = label_encoder.fit_transform(y)\n",
    "\n",
    "    return X_reduced, y_encoded"
   ]
  },
  {
   "cell_type": "markdown",
   "metadata": {},
   "source": [
    "### SVM Execution"
   ]
  },
  {
   "cell_type": "code",
   "execution_count": 57,
   "metadata": {},
   "outputs": [
    {
     "name": "stdout",
     "output_type": "stream",
     "text": [
      "Files in directory: ['adult.csv']\n",
      "Train-Test Split: 80%/20%\n",
      "Testing Accuracy: 85.03%\n",
      "Train-Test Split: 50%/50%\n",
      "Testing Accuracy: 84.82%\n",
      "Train-Test Split: 20%/80%\n",
      "Testing Accuracy: 84.46%\n",
      "K-Fold Cross-Validation Training Accuracy: 85.22%\n",
      "K-Fold Cross-Validation Validation Accuracy: 85.02%\n",
      "K-Fold Cross-Validation Training Accuracy: 85.57%\n",
      "K-Fold Cross-Validation Validation Accuracy: 85.25%\n",
      "K-Fold Cross-Validation Training Accuracy: 85.77%\n",
      "K-Fold Cross-Validation Validation Accuracy: 85.07%\n"
     ]
    }
   ],
   "source": [
    "X_final, y_encoded = ACI_load_and_preprocess_data(income)\n",
    "\n",
    "SVM_evaluate_with_train_test_split(X_final, y_encoded, test_size=0.2)\n",
    "SVM_evaluate_with_train_test_split(X_final, y_encoded, test_size=0.5)\n",
    "SVM_evaluate_with_train_test_split(X_final, y_encoded, test_size=0.8)\n",
    "\n",
    "X_train_80_20, _, y_train_80_20, _ = train_test_split(X_final, y_encoded, test_size=0.2, random_state=23)\n",
    "SVM_evaluate_with_kfold(X_train_80_20, y_train_80_20)\n",
    "\n",
    "X_train_50_50, _, y_train_50_50, _ = train_test_split(X_final, y_encoded, test_size=0.5, random_state=60)\n",
    "SVM_evaluate_with_kfold(X_train_50_50, y_train_50_50)\n",
    "\n",
    "X_train_20_80, _, y_train_20_80, _ = train_test_split(X_final, y_encoded, test_size=0.8, random_state=71)\n",
    "SVM_evaluate_with_kfold(X_train_20_80, y_train_20_80)\n"
   ]
  },
  {
   "cell_type": "markdown",
   "metadata": {},
   "source": [
    "### Boosted Trees Execution"
   ]
  },
  {
   "cell_type": "code",
   "execution_count": 58,
   "metadata": {},
   "outputs": [
    {
     "name": "stdout",
     "output_type": "stream",
     "text": [
      "Files in directory: ['adult.csv']\n",
      "Train-Test Split: 80%/20%\n",
      "Testing Accuracy: 87.21%\n",
      "Train-Test Split: 50%/50%\n",
      "Testing Accuracy: 86.51%\n",
      "Train-Test Split: 20%/80%\n",
      "Testing Accuracy: 85.87%\n",
      "K-Fold Cross-Validation Training Accuracy: 90.96%\n",
      "K-Fold Cross-Validation Validation Accuracy: 86.90%\n",
      "K-Fold Cross-Validation Training Accuracy: 92.24%\n",
      "K-Fold Cross-Validation Validation Accuracy: 86.76%\n",
      "K-Fold Cross-Validation Training Accuracy: 95.28%\n",
      "K-Fold Cross-Validation Validation Accuracy: 85.50%\n"
     ]
    }
   ],
   "source": [
    "X_final, y_encoded = ACI_load_and_preprocess_data(income)\n",
    "\n",
    "BT_evaluate_with_train_test_split(X_final, y_encoded, test_size=0.2)\n",
    "BT_evaluate_with_train_test_split(X_final, y_encoded, test_size=0.5)\n",
    "BT_evaluate_with_train_test_split(X_final, y_encoded, test_size=0.8)\n",
    "\n",
    "X_train_80_20, _, y_train_80_20, _ = train_test_split(X_final, y_encoded, test_size=0.2, random_state=12)\n",
    "BT_evaluate_with_kfold(X_train_80_20, y_train_80_20)\n",
    "\n",
    "X_train_50_50, _, y_train_50_50, _ = train_test_split(X_final, y_encoded, test_size=0.5, random_state=24)\n",
    "BT_evaluate_with_kfold(X_train_50_50, y_train_50_50)\n",
    "\n",
    "X_train_20_80, _, y_train_20_80, _ = train_test_split(X_final, y_encoded, test_size=0.8, random_state=46)\n",
    "BT_evaluate_with_kfold(X_train_20_80, y_train_20_80)"
   ]
  },
  {
   "cell_type": "markdown",
   "metadata": {},
   "source": [
    "### Neural Nets Execution"
   ]
  },
  {
   "cell_type": "code",
   "execution_count": 59,
   "metadata": {},
   "outputs": [
    {
     "name": "stdout",
     "output_type": "stream",
     "text": [
      "Files in directory: ['adult.csv']\n",
      "Train-Test Split: 80%/20%\n",
      "Testing Accuracy: 84.68%\n",
      "Train-Test Split: 50%/50%\n",
      "Testing Accuracy: 84.33%\n",
      "Train-Test Split: 20%/80%\n",
      "Testing Accuracy: 83.89%\n",
      "K-Fold Cross-Validation Mean Training Accuracy: 87.83%\n",
      "K-Fold Cross-Validation Mean Validation Accuracy: 84.56%\n",
      "K-Fold Cross-Validation Mean Training Accuracy: 88.26%\n",
      "K-Fold Cross-Validation Mean Validation Accuracy: 84.69%\n",
      "K-Fold Cross-Validation Mean Training Accuracy: 90.29%\n",
      "K-Fold Cross-Validation Mean Validation Accuracy: 84.23%\n"
     ]
    }
   ],
   "source": [
    "def ACI_nn_load_and_preprocess_data(directory_path):\n",
    "    files = os.listdir(directory_path)\n",
    "    print(\"Files in directory:\", files)\n",
    "    csv_file = [f for f in files if f.endswith('.csv')][0]\n",
    "    file_path = os.path.join(directory_path, csv_file)\n",
    "    data = pd.read_csv(file_path)\n",
    "\n",
    "    data.replace(' ?', pd.NA, inplace=True)\n",
    "    data.dropna(inplace=True)\n",
    "\n",
    "    X = data.drop('income', axis=1)\n",
    "    y = data['income']\n",
    "\n",
    "    categorical_features = X.select_dtypes(include=['object']).columns\n",
    "    encoder = OneHotEncoder(sparse_output=False)\n",
    "    X_encoded = encoder.fit_transform(X[categorical_features])\n",
    "\n",
    "    numerical_features = X.select_dtypes(exclude=['object']).values\n",
    "    X_final = np.hstack((numerical_features, X_encoded))\n",
    "\n",
    "    label_encoder = LabelEncoder()\n",
    "    y_encoded = label_encoder.fit_transform(y)\n",
    "    y_one_hot = to_categorical(y_encoded)\n",
    "\n",
    "    return X_final, y_one_hot\n",
    "\n",
    "X_final, y_one_hot = ACI_nn_load_and_preprocess_data(income)\n",
    "\n",
    "NN_evaluate_with_train_test_split(X_final, y_one_hot, test_size=0.2)\n",
    "NN_evaluate_with_train_test_split(X_final, y_one_hot, test_size=0.5)\n",
    "NN_evaluate_with_train_test_split(X_final, y_one_hot, test_size=0.8)\n",
    "\n",
    "X_train_80_20, _, y_train_80_20, _ = train_test_split(X_final, y_one_hot, test_size=0.2, random_state=8)\n",
    "NN_evaluate_with_kfold(X_train_80_20, y_train_80_20)\n",
    "X_train_50_50, _, y_train_50_50, _ = train_test_split(X_final, y_one_hot, test_size=0.5, random_state=88)\n",
    "NN_evaluate_with_kfold(X_train_50_50, y_train_50_50)\n",
    "X_train_20_80, _, y_train_20_80, _ = train_test_split(X_final, y_one_hot, test_size=0.8, random_state=888)\n",
    "NN_evaluate_with_kfold(X_train_20_80, y_train_20_80)\n"
   ]
  }
 ],
 "metadata": {
  "kernelspec": {
   "display_name": "cogs118a",
   "language": "python",
   "name": "python3"
  },
  "language_info": {
   "codemirror_mode": {
    "name": "ipython",
    "version": 3
   },
   "file_extension": ".py",
   "mimetype": "text/x-python",
   "name": "python",
   "nbconvert_exporter": "python",
   "pygments_lexer": "ipython3",
   "version": "3.12.5"
  }
 },
 "nbformat": 4,
 "nbformat_minor": 2
}
